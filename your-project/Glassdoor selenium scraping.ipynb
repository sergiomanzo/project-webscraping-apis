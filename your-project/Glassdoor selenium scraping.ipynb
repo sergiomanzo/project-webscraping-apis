{
 "cells": [
  {
   "cell_type": "code",
   "execution_count": 307,
   "id": "f6e7f140",
   "metadata": {},
   "outputs": [],
   "source": [
    "# this is the library that we will use to create break times in order to mimic human behaviour \n",
    "import time\n",
    "\n",
    "# this library will be used for getting your credentials but keeping them hidden in the script \n",
    "from getpass import getpass\n",
    "\n",
    "# these are the Classes we will use for interaction with a webpage\n",
    "from selenium import webdriver\n",
    "from selenium.webdriver.common.keys import Keys\n",
    "from selenium.webdriver.common.by import By\n",
    "from selenium.webdriver.chrome.service import Service\n",
    "from webdriver_manager.chrome import ChromeDriverManager \n",
    "\n",
    "\n",
    "# library for interacting with the operating system\n",
    "import os\n",
    "\n",
    "# you know pandas it's your best buddy \n",
    "import pandas as pd\n",
    "\n",
    "\n",
    "#Ignore warning -- Some methods are going to be deprecated and I didn't change all (mainly in the function scrapper)\n",
    "import warnings\n",
    "warnings.filterwarnings('ignore')\n",
    "\n",
    "# Extract soup for scraping\n",
    "from bs4 import BeautifulSoup\n",
    "import re\n",
    "import requests\n",
    "import random\n",
    "import numpy as np"
   ]
  },
  {
   "cell_type": "code",
   "execution_count": 308,
   "id": "4fc5b5c0",
   "metadata": {},
   "outputs": [],
   "source": [
    "headers= {'Accept-Encoding':'gzip, deflate',\n",
    "          'Accept-Language':'en-US,en;q=0.9',\n",
    "          'User-Agent':'Mozilla/5.0 (Windows NT 10.0; Win64; x64) AppleWebKit/537.36 (KHTML, like Gecko) Chrome/100.0.4896.88 Safari/537.36'}\n"
   ]
  },
  {
   "cell_type": "code",
   "execution_count": 314,
   "id": "012e5b66",
   "metadata": {},
   "outputs": [
    {
     "name": "stderr",
     "output_type": "stream",
     "text": [
      "\n",
      "\n",
      "====== WebDriver manager ======\n",
      "Current google-chrome version is 100.0.4896\n",
      "Get LATEST chromedriver version for 100.0.4896 google-chrome\n",
      "Driver [C:\\Users\\Sergio Manzano\\.wdm\\drivers\\chromedriver\\win32\\100.0.4896.60\\chromedriver.exe] found in cache\n"
     ]
    }
   ],
   "source": [
    "# driver path\n",
    "\n",
    "## driver path should be the location of the folder where the driver you downloaded is ## \n",
    "\n",
    "#driver_path = '/Users/alex/Documents/Tools/Drivers - Selenium/chromedriver' \n",
    "\n",
    "## first we need to initiate the driver - probably the most important part of the code ##\n",
    "#driver = webdriver.Chrome(executable_path = driver_path)\n",
    "\n",
    "# or new version \n",
    "driver = webdriver.Chrome(service=Service(ChromeDriverManager().install()))\n",
    "driver.get('https://www.glassdoor.ie/member/home/index.htm')"
   ]
  },
  {
   "cell_type": "code",
   "execution_count": 315,
   "id": "d5128a2a",
   "metadata": {},
   "outputs": [],
   "source": [
    "#driver.get('https://www.glassdoor.ie/member/home/index.htm')"
   ]
  },
  {
   "cell_type": "code",
   "execution_count": 317,
   "id": "d4f52b5a",
   "metadata": {},
   "outputs": [
    {
     "name": "stdout",
     "output_type": "stream",
     "text": [
      "Enter your email: manzov.sergio@gmail.com\n",
      "Enter your password: ········\n"
     ]
    }
   ],
   "source": [
    "# login into your Glassdoor account\n",
    "\n",
    "# input your email\n",
    "\n",
    "email = input('Enter your email: ')\n",
    "\n",
    "# here we are going to find the box where we input the email\n",
    "email_box = driver.find_element(By.ID, \"inlineUserEmail\") #email_box = driver.find_element_by_id(\"username\") #deprecated\n",
    "\n",
    "#clear the search box if it has already something in there\n",
    "email_box.clear()\n",
    "email_box.send_keys(Keys.CONTROL + \"a\")\n",
    "email_box.send_keys(Keys.DELETE)\n",
    "\n",
    "# with the method send_keys() you can send the information from the script to the webpage\n",
    "email_box.send_keys(email)\n",
    "time.sleep(2)\n",
    "\n",
    "# input the password\n",
    "password = getpass('Enter your password: ')\n",
    "\n",
    "# here we are going to find the box where we input the password\n",
    "pass_box = driver.find_element(By.ID, 'inlineUserPassword') #pass_box = driver.find_element_by_id('password') #deprecated\n",
    "\n",
    "#clear the paword box if it has already something in there\n",
    "pass_box.clear()\n",
    "pass_box.send_keys(Keys.CONTROL + \"a\")\n",
    "pass_box.send_keys(Keys.DELETE)\n",
    "\n",
    "# here we will send the password to the driver \n",
    "pass_box.send_keys(password)\n",
    "time.sleep(1)\n",
    "\n",
    "login = driver.find_element(By.CLASS_NAME,'gd-ui-button') #login = driver.find_element_by_class_name('gd-ui-button mt-std minWidthBtn css-14xfqow evpplnh0') #deprecated\n",
    "#login =  driver.find_element(By.CSS_SELECTOR, '[name=\"submit\"]').send_keys(\"webElement\")\n",
    "login.click()\n",
    "time.sleep(1)"
   ]
  },
  {
   "cell_type": "code",
   "execution_count": 318,
   "id": "575890a6",
   "metadata": {},
   "outputs": [
    {
     "name": "stdout",
     "output_type": "stream",
     "text": [
      "Enter position role: Data Analyst junior\n"
     ]
    }
   ],
   "source": [
    "#Input position role\n",
    "\n",
    "role = input('Enter position role: ')\n",
    "# here we are going to find the box where we input the email\n",
    "seachboxrole = driver.find_element(By.ID, \"sc.keyword\")\n",
    "#clear the search box if it has already something in there\n",
    "seachboxrole.clear()\n",
    "# with the method send_keys() you can send the information from the script to the webpage\n",
    "seachboxrole.send_keys(role)\n",
    "time.sleep(2)"
   ]
  },
  {
   "cell_type": "code",
   "execution_count": 319,
   "id": "b957e1c1",
   "metadata": {},
   "outputs": [],
   "source": [
    "#Click dropdown to select salaries\n",
    "#dropdown_salaries = driver.find_element(By.CLASS_NAME,'selectedLabel') \n",
    "dropdown = driver.find_element(By.CLASS_NAME,'css-5j38mw')\n",
    "dropdown.click()"
   ]
  },
  {
   "cell_type": "code",
   "execution_count": 320,
   "id": "80295249",
   "metadata": {},
   "outputs": [],
   "source": [
    "#Click dropdown to select salaries\n",
    "#dropdown_salaries = driver.find_element(By.CLASS_NAME,'selectedLabel') \n",
    "dropdown_salaries = driver.find_element_by_xpath(\"// span[contains(text(),\\'Salaries')]\").click()\n"
   ]
  },
  {
   "cell_type": "code",
   "execution_count": 321,
   "id": "0f83f79f",
   "metadata": {},
   "outputs": [
    {
     "name": "stdout",
     "output_type": "stream",
     "text": [
      "Enter City: Dublin\n"
     ]
    }
   ],
   "source": [
    "#Input location to find\n",
    "\n",
    "location = input('Enter City: ')\n",
    "seachboxlocation = driver.find_element(By.ID, \"sc.location\")\n",
    "seachboxlocation.click()\n",
    "seachboxlocation.clear()\n",
    "seachboxlocation.send_keys(Keys.CONTROL + \"a\")\n",
    "seachboxlocation.send_keys(Keys.DELETE)\n",
    "seachboxlocation.send_keys(location)\n",
    "time.sleep(3)"
   ]
  },
  {
   "cell_type": "code",
   "execution_count": 322,
   "id": "b33fc346",
   "metadata": {},
   "outputs": [],
   "source": [
    "search_button_click = driver.find_element(By.CLASS_NAME,'gd-ui-button').click()"
   ]
  },
  {
   "cell_type": "code",
   "execution_count": 323,
   "id": "ef631882",
   "metadata": {},
   "outputs": [
    {
     "data": {
      "text/html": [
       "<div>\n",
       "<style scoped>\n",
       "    .dataframe tbody tr th:only-of-type {\n",
       "        vertical-align: middle;\n",
       "    }\n",
       "\n",
       "    .dataframe tbody tr th {\n",
       "        vertical-align: top;\n",
       "    }\n",
       "\n",
       "    .dataframe thead th {\n",
       "        text-align: right;\n",
       "    }\n",
       "</style>\n",
       "<table border=\"1\" class=\"dataframe\">\n",
       "  <thead>\n",
       "    <tr style=\"text-align: right;\">\n",
       "      <th></th>\n",
       "      <th>city</th>\n",
       "      <th>position</th>\n",
       "      <th>updatedate</th>\n",
       "      <th>avgbasepay</th>\n",
       "      <th>minpay</th>\n",
       "      <th>avgpay</th>\n",
       "      <th>maxpay</th>\n",
       "      <th>positioninfo</th>\n",
       "    </tr>\n",
       "  </thead>\n",
       "  <tbody>\n",
       "    <tr>\n",
       "      <th>0</th>\n",
       "      <td>Dublin, Co. Dublin</td>\n",
       "      <td>Junior Data Analyst Salaries in Dublin Area</td>\n",
       "      <td>Updated 1 May 2022</td>\n",
       "      <td>€33,139</td>\n",
       "      <td>€29K</td>\n",
       "      <td>€33K</td>\n",
       "      <td>€40K</td>\n",
       "      <td>How much does a Junior Data Analyst make in Du...</td>\n",
       "    </tr>\n",
       "  </tbody>\n",
       "</table>\n",
       "</div>"
      ],
      "text/plain": [
       "                 city                                     position  \\\n",
       "0  Dublin, Co. Dublin  Junior Data Analyst Salaries in Dublin Area   \n",
       "\n",
       "           updatedate avgbasepay minpay avgpay maxpay  \\\n",
       "0  Updated 1 May 2022    €33,139   €29K   €33K   €40K   \n",
       "\n",
       "                                        positioninfo  \n",
       "0  How much does a Junior Data Analyst make in Du...  "
      ]
     },
     "execution_count": 323,
     "metadata": {},
     "output_type": "execute_result"
    }
   ],
   "source": [
    "#Dataframe creation\n",
    "\n",
    "# get the page you are in using page_source attribute a nd soup it\n",
    "html = driver.page_source\n",
    "soup = BeautifulSoup(html)\n",
    "\n",
    "#List creation\n",
    "position_summary_detail = []\n",
    "#Scraping detail required\n",
    "#Get city\n",
    "citydetail = soup.find_all('input', {'id':'sc.location'})\n",
    "city =citydetail[0][\"value\"]\n",
    "position_summary_detail.append(city)\n",
    "\n",
    "#Get position \n",
    "positiondetail = soup.find_all('h1', {'class':'m-0 css-1837fe'})\n",
    "position = positiondetail[0].text\n",
    "position_summary_detail.append(position)\n",
    "\n",
    "#Get last update\n",
    "updatedatedetail = soup.find_all('span', {'class':'css-1b6bxoo'})\n",
    "updatedate = updatedatedetail[0].text\n",
    "position_summary_detail.append(updatedate)\n",
    "\n",
    "#get Avg salary per year\n",
    "avgbasepaydetail = soup.find_all('span', {'class':'m-0 css-146zilq ebrouyy2'})\n",
    "avgbasepay = avgbasepaydetail[0].text\n",
    "position_summary_detail.append(avgbasepay)\n",
    "\n",
    "#Get min salaryrange\n",
    "minpaydetail = soup.find_all('p', {'class':'m-0 css-1vkj9it'})\n",
    "minpay = minpaydetail[0].text\n",
    "position_summary_detail.append(minpay)\n",
    "\n",
    "#Get avg salaryrange\n",
    "avgpaydetail = soup.find_all('p', {'class':'m-0 css-1vkj9it'})\n",
    "avgpay = avgpaydetail[2].text\n",
    "position_summary_detail.append(avgpay)\n",
    "\n",
    "#Get max salaryrange\n",
    "maxpaydetail = soup.find_all('p', {'class':'m-0 css-1vkj9it'})\n",
    "maxpay= maxpaydetail[4].text\n",
    "position_summary_detail.append(maxpay)\n",
    "\n",
    "#Get position resume info\n",
    "positioninfodetail = soup.find_all('div', {'class':'d-flex flex-column mt'})\n",
    "positioninfo =positioninfodetail[0].span.text\n",
    "position_summary_detail.append(positioninfo)\n",
    "\n",
    "#Dataframe creation\n",
    "position_summary_detail_df = pd.DataFrame(np.array(position_summary_detail).reshape(-1,len(position_summary_detail)))\n",
    "position_summary_detail_df.columns = ['city','position', 'updatedate', 'avgbasepay', 'minpay', 'avgpay', 'maxpay', 'positioninfo']\n",
    "position_summary_detail_df"
   ]
  },
  {
   "cell_type": "code",
   "execution_count": null,
   "id": "bf91c0dd",
   "metadata": {},
   "outputs": [],
   "source": []
  },
  {
   "cell_type": "markdown",
   "id": "34c8f732",
   "metadata": {},
   "source": [
    "# Search for a new role"
   ]
  },
  {
   "cell_type": "code",
   "execution_count": 264,
   "id": "8e2fe31b",
   "metadata": {},
   "outputs": [
    {
     "name": "stdout",
     "output_type": "stream",
     "text": [
      "Enter position role: Product Manager\n"
     ]
    }
   ],
   "source": [
    "#Input position role\n",
    "\n",
    "role = input('Enter position role: ')\n",
    "# here we are going to find the box where we input the email\n",
    "seachboxrole = driver.find_element(By.ID, \"sc.keyword\")\n",
    "#clear the search box if it has already something in there\n",
    "seachboxrole.clear()\n",
    "# with the method send_keys() you can send the information from the script to the webpage\n",
    "seachboxrole.send_keys(role)\n",
    "time.sleep(2)"
   ]
  },
  {
   "cell_type": "code",
   "execution_count": 273,
   "id": "ea976825",
   "metadata": {},
   "outputs": [],
   "source": [
    "#Click dropdown to select salaries\n",
    "#dropdown_salaries = driver.find_element(By.CLASS_NAME,'selectedLabel') \n",
    "dropdown = driver.find_element(By.CLASS_NAME,'css-1u2fbt7')\n",
    "dropdown.click()"
   ]
  },
  {
   "cell_type": "code",
   "execution_count": 274,
   "id": "41083626",
   "metadata": {},
   "outputs": [],
   "source": [
    "#Click dropdown to select salaries\n",
    "#dropdown_salaries = driver.find_element(By.CLASS_NAME,'selectedLabel') \n",
    "dropdown_salaries = driver.find_element_by_xpath(\"// span[contains(text(),\\'Salaries')]\").click()"
   ]
  },
  {
   "cell_type": "code",
   "execution_count": 278,
   "id": "c5b136a0",
   "metadata": {},
   "outputs": [
    {
     "name": "stdout",
     "output_type": "stream",
     "text": [
      "Enter City: London\n"
     ]
    }
   ],
   "source": [
    "#Input location to find\n",
    "\n",
    "location = input('Enter City: ')\n",
    "seachboxlocation = driver.find_element(By.ID, \"sc.location\")\n",
    "seachboxlocation.click()\n",
    "seachboxlocation.clear()\n",
    "seachboxlocation.send_keys(Keys.CONTROL + \"a\")\n",
    "seachboxlocation.send_keys(Keys.DELETE)\n",
    "seachboxlocation.send_keys(location)\n",
    "time.sleep(3)"
   ]
  },
  {
   "cell_type": "code",
   "execution_count": 280,
   "id": "5fe529b1",
   "metadata": {},
   "outputs": [],
   "source": [
    "search_button_click = driver.find_element(By.CLASS_NAME,'gd-ui-button').click()"
   ]
  },
  {
   "cell_type": "code",
   "execution_count": 281,
   "id": "1631c47e",
   "metadata": {},
   "outputs": [
    {
     "data": {
      "text/html": [
       "<div>\n",
       "<style scoped>\n",
       "    .dataframe tbody tr th:only-of-type {\n",
       "        vertical-align: middle;\n",
       "    }\n",
       "\n",
       "    .dataframe tbody tr th {\n",
       "        vertical-align: top;\n",
       "    }\n",
       "\n",
       "    .dataframe thead th {\n",
       "        text-align: right;\n",
       "    }\n",
       "</style>\n",
       "<table border=\"1\" class=\"dataframe\">\n",
       "  <thead>\n",
       "    <tr style=\"text-align: right;\">\n",
       "      <th></th>\n",
       "      <th>city</th>\n",
       "      <th>position</th>\n",
       "      <th>updatedate</th>\n",
       "      <th>avgbasepay</th>\n",
       "      <th>minpay</th>\n",
       "      <th>avgpay</th>\n",
       "      <th>maxpay</th>\n",
       "      <th>positioninfo</th>\n",
       "    </tr>\n",
       "  </thead>\n",
       "  <tbody>\n",
       "    <tr>\n",
       "      <th>0</th>\n",
       "      <td>London, England</td>\n",
       "      <td>Product Manager Salaries in London, United Kin...</td>\n",
       "      <td>Updated 1 May 2022</td>\n",
       "      <td>£57,555</td>\n",
       "      <td>£38K</td>\n",
       "      <td>£58K</td>\n",
       "      <td>£88K</td>\n",
       "      <td>The average salary for Product Manager is £57,...</td>\n",
       "    </tr>\n",
       "  </tbody>\n",
       "</table>\n",
       "</div>"
      ],
      "text/plain": [
       "              city                                           position  \\\n",
       "0  London, England  Product Manager Salaries in London, United Kin...   \n",
       "\n",
       "           updatedate avgbasepay minpay avgpay maxpay  \\\n",
       "0  Updated 1 May 2022    £57,555   £38K   £58K   £88K   \n",
       "\n",
       "                                        positioninfo  \n",
       "0  The average salary for Product Manager is £57,...  "
      ]
     },
     "execution_count": 281,
     "metadata": {},
     "output_type": "execute_result"
    }
   ],
   "source": [
    "#Dataframe creation\n",
    "\n",
    "# get the page you are in using page_source attribute a nd soup it\n",
    "html = driver.page_source\n",
    "soup = BeautifulSoup(html)\n",
    "\n",
    "#List creation\n",
    "position_summary_detail = []\n",
    "#Scraping detail required\n",
    "#Get city\n",
    "citydetail = soup.find_all('input', {'id':'sc.location'})\n",
    "city =citydetail[0][\"value\"]\n",
    "position_summary_detail.append(city)\n",
    "\n",
    "#Get position \n",
    "positiondetail = soup.find_all('h1', {'class':'m-0 css-1837fe'})\n",
    "position = positiondetail[0].text\n",
    "position_summary_detail.append(position)\n",
    "\n",
    "#Get last update\n",
    "updatedatedetail = soup.find_all('span', {'class':'css-1b6bxoo'})\n",
    "updatedate = updatedatedetail[0].text\n",
    "position_summary_detail.append(updatedate)\n",
    "\n",
    "#get Avg salary per year\n",
    "avgbasepaydetail = soup.find_all('span', {'class':'m-0 css-146zilq ebrouyy2'})\n",
    "avgbasepay = avgbasepaydetail[0].text\n",
    "position_summary_detail.append(avgbasepay)\n",
    "\n",
    "#Get min salaryrange\n",
    "minpaydetail = soup.find_all('p', {'class':'m-0 css-1vkj9it'})\n",
    "minpay = minpaydetail[0].text\n",
    "position_summary_detail.append(minpay)\n",
    "\n",
    "#Get avg salaryrange\n",
    "avgpaydetail = soup.find_all('p', {'class':'m-0 css-1vkj9it'})\n",
    "avgpay = avgpaydetail[2].text\n",
    "position_summary_detail.append(avgpay)\n",
    "\n",
    "#Get max salaryrange\n",
    "maxpaydetail = soup.find_all('p', {'class':'m-0 css-1vkj9it'})\n",
    "maxpay= maxpaydetail[4].text\n",
    "position_summary_detail.append(maxpay)\n",
    "\n",
    "#Get position resume info\n",
    "positioninfodetail = soup.find_all('div', {'class':'d-flex flex-column mt'})\n",
    "positioninfo =positioninfodetail[0].span.text\n",
    "position_summary_detail.append(positioninfo)\n",
    "\n",
    "#Dataframe creation\n",
    "position_summary_detail_df = pd.DataFrame(np.array(position_summary_detail).reshape(-1,len(position_summary_detail)))\n",
    "position_summary_detail_df.columns = ['city','position', 'updatedate', 'avgbasepay', 'minpay', 'avgpay', 'maxpay', 'positioninfo']\n",
    "position_summary_detail_df"
   ]
  },
  {
   "cell_type": "code",
   "execution_count": null,
   "id": "d86f6e7b",
   "metadata": {},
   "outputs": [],
   "source": []
  }
 ],
 "metadata": {
  "kernelspec": {
   "display_name": "Python 3 (ipykernel)",
   "language": "python",
   "name": "python3"
  },
  "language_info": {
   "codemirror_mode": {
    "name": "ipython",
    "version": 3
   },
   "file_extension": ".py",
   "mimetype": "text/x-python",
   "name": "python",
   "nbconvert_exporter": "python",
   "pygments_lexer": "ipython3",
   "version": "3.9.7"
  }
 },
 "nbformat": 4,
 "nbformat_minor": 5
}
